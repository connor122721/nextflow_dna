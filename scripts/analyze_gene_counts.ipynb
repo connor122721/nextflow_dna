{
 "cells": [
  {
   "cell_type": "code",
   "execution_count": null,
   "metadata": {},
   "outputs": [
    {
     "name": "stdout",
     "output_type": "stream",
     "text": [
      "Gene Counts Data:\n",
      "\n",
      "Metadata:\n",
      "\n",
      "Coloc\n",
      "76      ENSG00000157933\n",
      "116     ENSG00000097021\n",
      "1753    ENSG00000066027\n",
      "1923    ENSG00000077522\n",
      "2202    ENSG00000204161\n",
      "Name: gene, dtype: object\n"
     ]
    }
   ],
   "source": [
    "import pandas as pd\n",
    "import matplotlib.pyplot as plt\n",
    "import seaborn as sns\n",
    "\n",
    "# Define file paths\n",
    "gene_counts_file = \"./output/rna/norm_tmm.tsv\"  # Path to the TMM normalized gene counts\n",
    "metadata_file = \"/standard/vol185/cphg_Manichaikul/users/csm6hg/metadata/metadata_10_17_2024_CSM.txt\"  # Path to your metadata file\n",
    "coloc_file = \"./output/coloc/coloc_eqtl_candidates_full.txt\"\n",
    "\n",
    "# Read in the gene counts data\n",
    "gene_counts = pd.read_csv(gene_counts_file, sep='\\t', index_col=0) # index_col=0 uses the first column as the index\n",
    "\n",
    "# Read in the metadata\n",
    "metadata = pd.read_csv(metadata_file, sep='\\t')\n",
    "\n",
    "# Read in coloc\n",
    "coloc = pd.read_csv(coloc_file, sep='\\t')\n",
    "#coloc = coloc[coloc['PP.H4'] > 0.5]['gene'] # Extract best genes\n",
    "\n",
    "# Display the first few rows of each dataframe to verify\n",
    "print(\"Gene Counts Data:\")\n",
    "#print(gene_counts.head())\n",
    "print(\"\\nMetadata:\")\n",
    "#print(metadata.head())\n",
    "print(\"\\nColoc\")\n",
    "print(coloc.head())"
   ]
  },
  {
   "cell_type": "code",
   "execution_count": 33,
   "metadata": {},
   "outputs": [
    {
     "name": "stdout",
     "output_type": "stream",
     "text": [
      "Merged Data:\n",
      "  SAMPLE_ID_TOR         0         1         2         3         4         5  \\\n",
      "0     TOR803269  0.159183 -1.764953 -0.433821  0.320307 -0.329219  -1.80659   \n",
      "1     TOR795199 -0.568076  0.857387 -2.291709 -0.133547 -0.112252 -1.851616   \n",
      "2     TOR480443 -0.142082 -0.649492 -0.387826 -0.044398 -0.302559 -1.927134   \n",
      "3     TOR487285 -0.986725 -0.746589  0.959577  0.875847  0.176331 -0.351616   \n",
      "4     TOR565416 -0.593092 -0.074041 -0.276112 -0.443128   0.55817 -1.900744   \n",
      "\n",
      "          6         7         8  ... Collection_year  \\\n",
      "0  0.588059 -1.119166 -0.675817  ...             NaN   \n",
      "1  0.401534 -1.210806 -0.476014  ...             NaN   \n",
      "2 -0.112252 -1.058011 -0.315861  ...             NaN   \n",
      "3  0.210789  0.618484  1.851616  ...          2010.0   \n",
      "4  0.086763 -1.592384 -0.176331  ...          2010.0   \n",
      "\n",
      "  Biosample_affection_status Analyte_isolation_lab ANALYTE_TYPE  \\\n",
      "0                        NaN                   NaN          NaN   \n",
      "1                        NaN                   NaN          NaN   \n",
      "2                        NaN                   NaN          NaN   \n",
      "3                   Affected                Taylor          RNA   \n",
      "4                   Affected                Taylor          RNA   \n",
      "\n",
      "  Sample_container_ID Sample_well_ID Assay_lab Mapping_Rate  Total_Reads  \\\n",
      "0                 NaN            NaN       NaN     0.995862   91655800.0   \n",
      "1                 NaN            NaN       NaN     0.992820  100345000.0   \n",
      "2                 NaN            NaN       NaN     0.994026  100644000.0   \n",
      "3             SK-3CKK            A07     Broad     0.994896  117949000.0   \n",
      "4             SK-3CKK            A01     Broad     0.992663  128245000.0   \n",
      "\n",
      "  diagnosis_simple  \n",
      "0      Myocarditis  \n",
      "1             IDCM  \n",
      "2             IDCM  \n",
      "3             IDCM  \n",
      "4             IDCM  \n",
      "\n",
      "[5 rows x 19495 columns]\n"
     ]
    }
   ],
   "source": [
    "# In this case, the common column is the column 'SAMPLE_ID_TOR' in metadata and the header of gene_counts\n",
    "\n",
    "# Transpose gene_counts so sample IDs are in the index\n",
    "gene_counts_transposed = gene_counts.transpose()\n",
    "\n",
    "# Reset index of gene_counts_transposed to make sample IDs a column\n",
    "gene_counts_transposed = gene_counts_transposed.reset_index(names = ['gene'])\n",
    "#print(gene)\n",
    "\n",
    "# Rename the index column to 'SAMPLE_ID_TOR' to match the metadata\n",
    "gene_counts_transposed = gene_counts_transposed.rename(columns={'gene': 'SAMPLE_ID_TOR'})\n",
    "\n",
    "# Merge the two dataframes using 'SAMPLE_ID_TOR'\n",
    "merged_data = pd.merge(gene_counts_transposed, metadata, on='SAMPLE_ID_TOR', how='inner')\n",
    "\n",
    "# Display the first few rows of the merged dataframe\n",
    "print(\"Merged Data:\")\n",
    "print(merged_data.head())"
   ]
  },
  {
   "cell_type": "code",
   "execution_count": null,
   "metadata": {},
   "outputs": [],
   "source": [
    "# List the genes you want to analyze\n",
    "gene_list = ['ENSG00000000003.14', 'ENSG00000000005.5', 'ENSG00000000419.12']  # Replace with your genes of interest\n",
    "\n",
    "# Verify that the genes are in the columns\n",
    "available_genes = [gene for gene in gene_list if gene in merged_data.columns]\n",
    "print(f\"Available genes: {available_genes}\")\n",
    "\n",
    "# Example: Plotting the distribution of a specific gene\n",
    "if available_genes:\n",
    "    gene_to_plot = available_genes[0]\n",
    "    plt.figure(figsize=(10, 6))\n",
    "    sns.histplot(merged_data[gene_to_plot], kde=True)\n",
    "    plt.title(f'Distribution of {gene_to_plot}')\n",
    "    plt.xlabel('Normalized Gene Counts')\n",
    "    plt.ylabel('Frequency')\n",
    "    plt.show()\n",
    "\n",
    "    # Example: Scatter plot of gene expression vs. a metadata variable (e.g., age)\n",
    "    if 'age' in merged_data.columns:\n",
    "        plt.figure(figsize=(10, 6))\n",
    "        sns.scatterplot(x='age', y=gene_to_plot, data=merged_data)\n",
    "        plt.title(f'{gene_to_plot} vs. Age')\n",
    "        plt.xlabel('Age')\n",
    "        plt.ylabel('Normalized Gene Counts')\n",
    "        plt.show()\n",
    "    else:\n",
    "        print(\"Age column not found in metadata.\")\n",
    "else:\n",
    "    print(\"No specified genes available in the merged dataset.\")"
   ]
  },
  {
   "cell_type": "code",
   "execution_count": null,
   "metadata": {},
   "outputs": [],
   "source": [
    "# Additional analyses can be added here\n",
    "# For example, you can perform statistical tests, create more complex plots, etc."
   ]
  }
 ],
 "metadata": {
  "kernelspec": {
   "display_name": "r-reticulate",
   "language": "python",
   "name": "python3"
  },
  "language_info": {
   "codemirror_mode": {
    "name": "ipython",
    "version": 3
   },
   "file_extension": ".py",
   "mimetype": "text/x-python",
   "name": "python",
   "nbconvert_exporter": "python",
   "pygments_lexer": "ipython3",
   "version": "3.11.5"
  }
 },
 "nbformat": 4,
 "nbformat_minor": 2
}
